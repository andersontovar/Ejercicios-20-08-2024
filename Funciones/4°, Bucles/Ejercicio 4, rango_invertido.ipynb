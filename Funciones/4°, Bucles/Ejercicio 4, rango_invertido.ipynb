{
 "cells": [
  {
   "cell_type": "code",
   "execution_count": 7,
   "metadata": {},
   "outputs": [
    {
     "name": "stdout",
     "output_type": "stream",
     "text": [
      "17, 16, 15, 14, 13, 12, 11, 10, 9, 8, 7, 6, 5, 4, 3, 2, 1, 0, "
     ]
    }
   ],
   "source": [
    "numero_entero = int(input('Ingrese un numero entero positivo'))\n",
    "\n",
    "if numero_entero >= 1:\n",
    "    while numero_entero >= 0:\n",
    "        print(numero_entero, end= ', ')\n",
    "        numero_entero -= 1\n",
    "elif numero_entero == 0:\n",
    "    print(0)\n",
    "else:\n",
    "    print('El numero debe ser positivo')"
   ]
  }
 ],
 "metadata": {
  "kernelspec": {
   "display_name": "Python 3",
   "language": "python",
   "name": "python3"
  },
  "language_info": {
   "codemirror_mode": {
    "name": "ipython",
    "version": 3
   },
   "file_extension": ".py",
   "mimetype": "text/x-python",
   "name": "python",
   "nbconvert_exporter": "python",
   "pygments_lexer": "ipython3",
   "version": "3.12.5"
  }
 },
 "nbformat": 4,
 "nbformat_minor": 2
}
