{
 "cells": [
  {
   "cell_type": "code",
   "execution_count": 25,
   "metadata": {},
   "outputs": [
    {
     "name": "stdout",
     "output_type": "stream",
     "text": [
      "1,3,5,7,9,11,13,15,17,"
     ]
    }
   ],
   "source": [
    "numero_entero = int(input('Ingrese un numero entero positivo'))\n",
    "\n",
    "if numero_entero > 0:\n",
    "    for i in range(1, numero_entero + 1):\n",
    "        if i % 2 != 0:\n",
    "            print(i, end= ',')\n",
    "else:\n",
    "    print('El numero debe ser positivo y mayor a 0')"
   ]
  }
 ],
 "metadata": {
  "kernelspec": {
   "display_name": "Python 3",
   "language": "python",
   "name": "python3"
  },
  "language_info": {
   "codemirror_mode": {
    "name": "ipython",
    "version": 3
   },
   "file_extension": ".py",
   "mimetype": "text/x-python",
   "name": "python",
   "nbconvert_exporter": "python",
   "pygments_lexer": "ipython3",
   "version": "3.12.5"
  }
 },
 "nbformat": 4,
 "nbformat_minor": 2
}
