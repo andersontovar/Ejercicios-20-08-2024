{
 "cells": [
  {
   "cell_type": "code",
   "execution_count": 42,
   "metadata": {},
   "outputs": [
    {
     "name": "stdout",
     "output_type": "stream",
     "text": [
      "El capital obtenido tras 1 año es: 1,100.00€\n",
      "El capital obtenido tras 2 año es: 1,210.00€\n",
      "El capital obtenido tras 3 año es: 1,331.00€\n",
      "El capital obtenido tras 4 año es: 1,464.10€\n",
      "El capital obtenido tras 5 año es: 1,610.51€\n"
     ]
    }
   ],
   "source": [
    "cantidad_invertir = float(input('Ingrese la cantidad a invertir'))\n",
    "interes_anual = float(input('Ingrese un interes porcentual anual'))\n",
    "numero_de_años = int(input('Ingrese un numero de años'))\n",
    "\n",
    "for i in range(numero_de_años):\n",
    "    cantidad_invertir *= (1 + interes_anual / 100)\n",
    "    print(f'El capital obtenido tras {i + 1} año es: {cantidad_invertir:,.2f}€')"
   ]
  }
 ],
 "metadata": {
  "kernelspec": {
   "display_name": "Python 3",
   "language": "python",
   "name": "python3"
  },
  "language_info": {
   "codemirror_mode": {
    "name": "ipython",
    "version": 3
   },
   "file_extension": ".py",
   "mimetype": "text/x-python",
   "name": "python",
   "nbconvert_exporter": "python",
   "pygments_lexer": "ipython3",
   "version": "3.12.5"
  }
 },
 "nbformat": 4,
 "nbformat_minor": 2
}
