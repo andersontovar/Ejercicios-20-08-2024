{
 "cells": [
  {
   "cell_type": "code",
   "execution_count": 3,
   "metadata": {},
   "outputs": [
    {
     "name": "stdout",
     "output_type": "stream",
     "text": [
      "Son 23,424 euros con 00 centimos\n"
     ]
    }
   ],
   "source": [
    "precio_del_producto = float(input('Ingrese el precio del producto en euros'))\n",
    "numero_de_euros = int(precio_del_producto)\n",
    "numero_de_centimos = round((precio_del_producto - numero_de_euros)* 100) # primero se restan las variables, luego se multiplica el resultado por 100 y despues lo redondeamos.\n",
    "print(f'Son {numero_de_euros:,} euros con {numero_de_centimos:02d} centimos')"
   ]
  }
 ],
 "metadata": {
  "kernelspec": {
   "display_name": "Python 3",
   "language": "python",
   "name": "python3"
  },
  "language_info": {
   "codemirror_mode": {
    "name": "ipython",
    "version": 3
   },
   "file_extension": ".py",
   "mimetype": "text/x-python",
   "name": "python",
   "nbconvert_exporter": "python",
   "pygments_lexer": "ipython3",
   "version": "3.12.5"
  }
 },
 "nbformat": 4,
 "nbformat_minor": 2
}
