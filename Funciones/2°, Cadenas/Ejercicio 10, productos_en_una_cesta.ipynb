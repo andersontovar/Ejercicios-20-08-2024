{
 "cells": [
  {
   "cell_type": "code",
   "execution_count": 74,
   "metadata": {},
   "outputs": [
    {
     "name": "stdout",
     "output_type": "stream",
     "text": [
      "chocolate\n",
      " cafe\n",
      " huevos\n",
      " pan\n",
      " arroz\n",
      " pollo\n",
      " pescado\n",
      " platano\n"
     ]
    }
   ],
   "source": [
    "productos_input = input('¿Cuales son los productos que va a comprar?, Escribalos separados por una coma.')\n",
    "\n",
    "'''Agrega una como como delimitador en cada linea de codigo'''\n",
    "productos_de_una_cesta = productos_input.split(',') \n",
    "\n",
    "'''itera sobre cada elemento de la cadena de caracteres'''\n",
    "for producto in productos_de_una_cesta: #\n",
    "    print(producto)"
   ]
  }
 ],
 "metadata": {
  "kernelspec": {
   "display_name": "Python 3",
   "language": "python",
   "name": "python3"
  },
  "language_info": {
   "codemirror_mode": {
    "name": "ipython",
    "version": 3
   },
   "file_extension": ".py",
   "mimetype": "text/x-python",
   "name": "python",
   "nbconvert_exporter": "python",
   "pygments_lexer": "ipython3",
   "version": "3.12.5"
  }
 },
 "nbformat": 4,
 "nbformat_minor": 2
}
