{
 "cells": [
  {
   "cell_type": "code",
   "execution_count": 5,
   "metadata": {},
   "outputs": [
    {
     "name": "stdout",
     "output_type": "stream",
     "text": [
      "El numero sin prefijo y extencion es: 3124696123\n"
     ]
    }
   ],
   "source": [
    "prefijo_numero_extencion = input('Introduzca un numero con este formato: +XX-XXXXXXXXX-XX')\n",
    "# +57-3124696123-00\n",
    "print('El numero sin prefijo y extencion es:', prefijo_numero_extencion[4: -3])"
   ]
  }
 ],
 "metadata": {
  "kernelspec": {
   "display_name": "Python 3",
   "language": "python",
   "name": "python3"
  },
  "language_info": {
   "codemirror_mode": {
    "name": "ipython",
    "version": 3
   },
   "file_extension": ".py",
   "mimetype": "text/x-python",
   "name": "python",
   "nbconvert_exporter": "python",
   "pygments_lexer": "ipython3",
   "version": "3.12.5"
  }
 },
 "nbformat": 4,
 "nbformat_minor": 2
}
