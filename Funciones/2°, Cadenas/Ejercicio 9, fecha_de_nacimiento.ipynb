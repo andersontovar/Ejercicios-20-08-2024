{
 "cells": [
  {
   "cell_type": "code",
   "execution_count": 1,
   "metadata": {},
   "outputs": [
    {
     "name": "stdout",
     "output_type": "stream",
     "text": [
      "Su fecha de nacimiento es: 12/12/1212\n"
     ]
    }
   ],
   "source": [
    "fecha_de_nacimiento = input('Ingrese su fecha de nacimiento en formato dd/mm/aaaa: ')\n",
    "\n",
    "cantidad_de_barras = fecha_de_nacimiento.count('/')\n",
    "if cantidad_de_barras == 2 and len(fecha_de_nacimiento) >= 8:\n",
    "    print(f'Su fecha de nacimiento es: {fecha_de_nacimiento}')\n",
    "else:\n",
    "    print('La fecha debe cumplir con los parametros del formato')"
   ]
  }
 ],
 "metadata": {
  "kernelspec": {
   "display_name": "Python 3",
   "language": "python",
   "name": "python3"
  },
  "language_info": {
   "codemirror_mode": {
    "name": "ipython",
    "version": 3
   },
   "file_extension": ".py",
   "mimetype": "text/x-python",
   "name": "python",
   "nbconvert_exporter": "python",
   "pygments_lexer": "ipython3",
   "version": "3.12.5"
  }
 },
 "nbformat": 4,
 "nbformat_minor": 2
}
