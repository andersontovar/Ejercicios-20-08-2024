{
 "cells": [
  {
   "cell_type": "code",
   "execution_count": 1,
   "metadata": {},
   "outputs": [
    {
     "name": "stdout",
     "output_type": "stream",
     "text": [
      "anderson maracen tovar salgado\n",
      "ANDERSON MARACEN TOVAR SALGADO\n",
      "Anderson Maracen Tovar Salgado\n"
     ]
    }
   ],
   "source": [
    "nombre_completo = str(input('Ingrese su nombre completo'))\n",
    "letras_minusculas = nombre_completo.lower()\n",
    "letras_mayusculas = nombre_completo.upper()\n",
    "primera_mayuscula = nombre_completo.title()\n",
    "print(letras_minusculas)\n",
    "print(letras_mayusculas)\n",
    "print(primera_mayuscula)"
   ]
  }
 ],
 "metadata": {
  "kernelspec": {
   "display_name": "Python 3",
   "language": "python",
   "name": "python3"
  },
  "language_info": {
   "codemirror_mode": {
    "name": "ipython",
    "version": 3
   },
   "file_extension": ".py",
   "mimetype": "text/x-python",
   "name": "python",
   "nbconvert_exporter": "python",
   "pygments_lexer": "ipython3",
   "version": "3.12.5"
  }
 },
 "nbformat": 4,
 "nbformat_minor": 2
}
