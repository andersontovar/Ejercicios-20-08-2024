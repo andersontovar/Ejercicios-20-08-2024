{
 "cells": [
  {
   "cell_type": "code",
   "execution_count": 17,
   "metadata": {},
   "outputs": [
    {
     "name": "stdout",
     "output_type": "stream",
     "text": [
      "Anderson\n",
      "Anderson\n",
      "Anderson\n",
      "Anderson\n",
      "Anderson\n",
      "Anderson\n",
      "Anderson\n"
     ]
    }
   ],
   "source": [
    "nombre_usuario = input('Ingrese un nombre')\n",
    "numero_entero = int(input('Ingrese un numero entero'))\n",
    "while numero_entero > 0:\n",
    "    numero_entero -= 1\n",
    "    print(nombre_usuario)"
   ]
  }
 ],
 "metadata": {
  "kernelspec": {
   "display_name": "Python 3",
   "language": "python",
   "name": "python3"
  },
  "language_info": {
   "codemirror_mode": {
    "name": "ipython",
    "version": 3
   },
   "file_extension": ".py",
   "mimetype": "text/x-python",
   "name": "python",
   "nbconvert_exporter": "python",
   "pygments_lexer": "ipython3",
   "version": "3.12.5"
  }
 },
 "nbformat": 4,
 "nbformat_minor": 2
}
