{
 "cells": [
  {
   "cell_type": "code",
   "execution_count": 11,
   "metadata": {},
   "outputs": [
    {
     "name": "stdout",
     "output_type": "stream",
     "text": [
      "Aprende A progrAmAr con python\n"
     ]
    }
   ],
   "source": [
    "frase = input('Ingrese una frase')\n",
    "vocal = input('Ingrese una vocal')\n",
    "\n",
    "'''\n",
    "Verifica si la letra ingresada es una vocal.\n",
    "si es una vocal, convierte la vocal en mayuscula e imprime la frase con la vocal introducida en mayuscula\n",
    "'''\n",
    "if vocal in  'a,e,i,o,u':\n",
    "    vocal_mayus = vocal.upper()\n",
    "    print(frase.replace(vocal, vocal_mayus))\n",
    "else:\n",
    "    print('La vocal ingresada es incorrecta')"
   ]
  }
 ],
 "metadata": {
  "kernelspec": {
   "display_name": "Python 3",
   "language": "python",
   "name": "python3"
  },
  "language_info": {
   "codemirror_mode": {
    "name": "ipython",
    "version": 3
   },
   "file_extension": ".py",
   "mimetype": "text/x-python",
   "name": "python",
   "nbconvert_exporter": "python",
   "pygments_lexer": "ipython3",
   "version": "3.12.5"
  }
 },
 "nbformat": 4,
 "nbformat_minor": 2
}
