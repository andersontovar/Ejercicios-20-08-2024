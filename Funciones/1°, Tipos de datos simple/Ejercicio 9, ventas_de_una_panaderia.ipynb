{
 "cells": [
  {
   "cell_type": "code",
   "execution_count": 7,
   "metadata": {},
   "outputs": [
    {
     "name": "stdout",
     "output_type": "stream",
     "text": [
      "El precio habitual de una barra de pan es: 3.49€\n",
      "El descuento por una barra de pan que no esta fresca es del: 60 %\n",
      "Y el coste final total es: 13.96\n"
     ]
    }
   ],
   "source": [
    "barras_vendidas = int(input('Ingrese el numero de barras de pan vendidas que no estan frescas'))\n",
    "pan = 3.49\n",
    "porcentaje = 60\n",
    "descuento = 0.6\n",
    "pan_con_descuento = pan - (pan * descuento)\n",
    "total_pan_vendido = barras_vendidas * pan_con_descuento\n",
    "print(f'El precio habitual de una barra de pan es: {pan}€')\n",
    "print(f'El descuento por una barra de pan que no esta fresca es del: {porcentaje} %')\n",
    "print(f'Y el coste final total es: {round(total_pan_vendido, 2)}')"
   ]
  }
 ],
 "metadata": {
  "kernelspec": {
   "display_name": "Python 3",
   "language": "python",
   "name": "python3"
  },
  "language_info": {
   "codemirror_mode": {
    "name": "ipython",
    "version": 3
   },
   "file_extension": ".py",
   "mimetype": "text/x-python",
   "name": "python",
   "nbconvert_exporter": "python",
   "pygments_lexer": "ipython3",
   "version": "3.12.5"
  }
 },
 "nbformat": 4,
 "nbformat_minor": 2
}
