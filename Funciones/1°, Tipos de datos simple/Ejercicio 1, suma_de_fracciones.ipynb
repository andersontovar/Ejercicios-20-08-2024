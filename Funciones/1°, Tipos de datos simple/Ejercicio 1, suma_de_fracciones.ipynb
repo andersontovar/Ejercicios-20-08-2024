{
 "cells": [
  {
   "cell_type": "code",
   "execution_count": 2,
   "metadata": {},
   "outputs": [],
   "source": [
    "def operaciones_aritmeticas(numerador1, operador_aritmetico1, numerador2, denominador1, operador_aritmetico2, denominador2):\n",
    "    \n",
    "    '''Calcula el resultado del numerador'''\n",
    "    if operador_aritmetico1 == '+':\n",
    "        resultado_numerador = numerador1 + numerador2\n",
    "    elif operador_aritmetico1 == '-':\n",
    "        resultado_numerador = numerador1 - numerador2\n",
    "    elif operador_aritmetico1 == '*':\n",
    "        resultado_numerador = numerador1 * numerador2\n",
    "    elif operador_aritmetico1 == '/':\n",
    "        resultado_numerador = numerador1 / numerador2\n",
    "        if resultado_numerador == 0:\n",
    "            print('Error: division incorrecta por el numerador 2')\n",
    "            return\n",
    "    else:\n",
    "        print('Operacion aritmetica del numerador incorrecta')\n",
    "        return\n",
    "    \n",
    "    '''Calcula el resultado del denominador'''\n",
    "    if operador_aritmetico2 == '+':\n",
    "        resultado_denominador = denominador1 + denominador2\n",
    "    elif operador_aritmetico2 == '-':\n",
    "        resultado_denominador = denominador1 - denominador2\n",
    "    elif operador_aritmetico2 == '*':\n",
    "        resultado_denominador = denominador1 * denominador2\n",
    "    elif operador_aritmetico2 == '/':\n",
    "        resultado_denominador = denominador1 / denominador2\n",
    "        if denominador2 == 0:\n",
    "            print('Error: division incorrecta por el denominador 2')\n",
    "            return\n",
    "    else:\n",
    "        print('Operacion aritmetica del denominador incorrecta')\n",
    "        return\n",
    "    \n",
    "    '''Calcula el resultado final y lo imprime por pantalla'''\n",
    "    resultado_final = resultado_numerador / resultado_denominador\n",
    "    if resultado_final != 0:\n",
    "        print(resultado_final** 2)\n",
    "    else:\n",
    "        print('Resultado final incorrecto, es igual a 0')"
   ]
  },
  {
   "cell_type": "code",
   "execution_count": 3,
   "metadata": {},
   "outputs": [
    {
     "name": "stdout",
     "output_type": "stream",
     "text": [
      "0.25\n"
     ]
    }
   ],
   "source": [
    "operaciones_aritmeticas(3, '+', 2, 2, '*', 5)"
   ]
  }
 ],
 "metadata": {
  "kernelspec": {
   "display_name": "Python 3",
   "language": "python",
   "name": "python3"
  },
  "language_info": {
   "codemirror_mode": {
    "name": "ipython",
    "version": 3
   },
   "file_extension": ".py",
   "mimetype": "text/x-python",
   "name": "python",
   "nbconvert_exporter": "python",
   "pygments_lexer": "ipython3",
   "version": "3.12.5"
  }
 },
 "nbformat": 4,
 "nbformat_minor": 2
}
