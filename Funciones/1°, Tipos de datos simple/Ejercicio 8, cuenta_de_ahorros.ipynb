{
 "cells": [
  {
   "cell_type": "code",
   "execution_count": 4,
   "metadata": {},
   "outputs": [
    {
     "name": "stdout",
     "output_type": "stream",
     "text": [
      "Balance tras el primer año es: 10.4\n",
      "Balance tras el segundo año es: 10.8\n",
      "Balance tras el tercer año es: 11.2\n"
     ]
    }
   ],
   "source": [
    "cuenta_de_ahorros = int(input('Deposite una cantidad de dinero en la cuenta de ahorros'))\n",
    "intereses = 0.04\n",
    "balance = cuenta_de_ahorros * intereses\n",
    "ahorros_primer_año = cuenta_de_ahorros + balance\n",
    "ahorros_segundo_año = ahorros_primer_año + balance\n",
    "ahorros_tercer_año = ahorros_segundo_año + balance\n",
    "print(f'Balance tras el primer año es: {round(ahorros_primer_año, 2)}')\n",
    "print(f'Balance tras el segundo año es: {round(ahorros_segundo_año, 2)}')\n",
    "print(f'Balance tras el tercer año es: {round(ahorros_tercer_año, 2)}')"
   ]
  }
 ],
 "metadata": {
  "kernelspec": {
   "display_name": "Python 3",
   "language": "python",
   "name": "python3"
  },
  "language_info": {
   "codemirror_mode": {
    "name": "ipython",
    "version": 3
   },
   "file_extension": ".py",
   "mimetype": "text/x-python",
   "name": "python",
   "nbconvert_exporter": "python",
   "pygments_lexer": "ipython3",
   "version": "3.12.5"
  }
 },
 "nbformat": 4,
 "nbformat_minor": 2
}
