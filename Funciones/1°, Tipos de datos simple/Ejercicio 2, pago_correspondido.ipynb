{
 "cells": [
  {
   "cell_type": "code",
   "execution_count": 16,
   "metadata": {},
   "outputs": [
    {
     "name": "stdout",
     "output_type": "stream",
     "text": [
      "480,000\n"
     ]
    }
   ],
   "source": [
    "horas_trabajadas = int(input('Ingrese las horas trabajadas'))\n",
    "cobro_por_hora = int(input('Ingrese el cobro por hora'))\n",
    "\n",
    "pago_correspondido = horas_trabajadas * cobro_por_hora\n",
    "print(f'{pago_correspondido:,}')"
   ]
  }
 ],
 "metadata": {
  "kernelspec": {
   "display_name": "Python 3",
   "language": "python",
   "name": "python3"
  },
  "language_info": {
   "codemirror_mode": {
    "name": "ipython",
    "version": 3
   },
   "file_extension": ".py",
   "mimetype": "text/x-python",
   "name": "python",
   "nbconvert_exporter": "python",
   "pygments_lexer": "ipython3",
   "version": "3.12.5"
  }
 },
 "nbformat": 4,
 "nbformat_minor": 2
}
