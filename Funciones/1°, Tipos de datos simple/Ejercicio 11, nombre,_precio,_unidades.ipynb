{
 "cells": [
  {
   "cell_type": "code",
   "execution_count": 9,
   "metadata": {},
   "outputs": [
    {
     "name": "stdout",
     "output_type": "stream",
     "text": [
      "cucharas: 15 unidades X 1,200.00€ = 18,000.00€\n"
     ]
    }
   ],
   "source": [
    "nombre_producto = input('Escriba el nombre del producto')\n",
    "precio_unitario = int(input('Ingrese el precio unitario'))\n",
    "total_unidades = int(input('Ingrese el total de unidades compradas'))\n",
    "\n",
    "costo_total = precio_unitario * total_unidades\n",
    "\n",
    "print(f'{nombre_producto}: {total_unidades} unidades X {precio_unitario:6,.2f}€ = {costo_total:8,.2f}€')"
   ]
  }
 ],
 "metadata": {
  "kernelspec": {
   "display_name": "Python 3",
   "language": "python",
   "name": "python3"
  },
  "language_info": {
   "codemirror_mode": {
    "name": "ipython",
    "version": 3
   },
   "file_extension": ".py",
   "mimetype": "text/x-python",
   "name": "python",
   "nbconvert_exporter": "python",
   "pygments_lexer": "ipython3",
   "version": "3.12.5"
  }
 },
 "nbformat": 4,
 "nbformat_minor": 2
}
