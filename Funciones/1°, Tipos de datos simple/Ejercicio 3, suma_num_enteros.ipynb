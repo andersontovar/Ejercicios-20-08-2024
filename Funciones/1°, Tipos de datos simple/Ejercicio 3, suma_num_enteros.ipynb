{
 "cells": [
  {
   "cell_type": "code",
   "execution_count": 26,
   "metadata": {},
   "outputs": [
    {
     "name": "stdout",
     "output_type": "stream",
     "text": [
      "la suma de los primeros numeros desde 1 a 8 es: 36.0\n"
     ]
    }
   ],
   "source": [
    "n_entero = int(input('Ingrese un numero entero positivo'))\n",
    "if n_entero <= 0:\n",
    "    print('El numero debe ser mayor a 0')\n",
    "else:\n",
    "    for i in range(n_entero + 1):\n",
    "        suma = i * (i + 1) / 2\n",
    "        i += 1\n",
    "    print(f'la suma de los primeros numeros desde 1 a {n_entero} es: {suma}')"
   ]
  }
 ],
 "metadata": {
  "kernelspec": {
   "display_name": "Python 3",
   "language": "python",
   "name": "python3"
  },
  "language_info": {
   "codemirror_mode": {
    "name": "ipython",
    "version": 3
   },
   "file_extension": ".py",
   "mimetype": "text/x-python",
   "name": "python",
   "nbconvert_exporter": "python",
   "pygments_lexer": "ipython3",
   "version": "3.12.5"
  }
 },
 "nbformat": 4,
 "nbformat_minor": 2
}
