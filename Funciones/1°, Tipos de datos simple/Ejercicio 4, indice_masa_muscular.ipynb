{
 "cells": [
  {
   "cell_type": "code",
   "execution_count": 22,
   "metadata": {},
   "outputs": [
    {
     "name": "stdout",
     "output_type": "stream",
     "text": [
      "Tu indice de masa corporal es: 21.51\n"
     ]
    }
   ],
   "source": [
    "peso = int(input('¿Cual es su peso en kg?'))\n",
    "estatura = float(input('¿Cual es su estatura en metros?'))\n",
    "masa_corporal = peso / estatura**2\n",
    "print(f'Tu indice de masa corporal es: {round(masa_corporal, 2)}')"
   ]
  }
 ],
 "metadata": {
  "kernelspec": {
   "display_name": "Python 3",
   "language": "python",
   "name": "python3"
  },
  "language_info": {
   "codemirror_mode": {
    "name": "ipython",
    "version": 3
   },
   "file_extension": ".py",
   "mimetype": "text/x-python",
   "name": "python",
   "nbconvert_exporter": "python",
   "pygments_lexer": "ipython3",
   "version": "3.12.5"
  }
 },
 "nbformat": 4,
 "nbformat_minor": 2
}
