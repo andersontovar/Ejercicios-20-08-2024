{
 "cells": [
  {
   "cell_type": "code",
   "execution_count": 2,
   "metadata": {},
   "outputs": [
    {
     "name": "stdout",
     "output_type": "stream",
     "text": [
      "El peso total del paquete es: 1944 g y contiene 12 payasos y 8 muñecas en total\n"
     ]
    }
   ],
   "source": [
    "numero_payasos = int(input('Ingrese el numero de payasos vendidos en el ultimo pedido'))\n",
    "numero_muñecas = int(input('Ingrese el numero de muñecas vendidas en el ultimo pedido'))\n",
    "\n",
    "'''\n",
    "Multiplicamos el peso de los payasos y \n",
    "muñecas por cada juguete vendido\n",
    "'''\n",
    "peso_del_payaso = 112 * numero_payasos\n",
    "peso_de_las_muñecas = 75 * numero_muñecas\n",
    "'''\n",
    "Sumamos el total de juguetes vendidos e \n",
    "imprimimos por pantalla\n",
    "'''\n",
    "peso_total_del_paquete = peso_del_payaso + peso_de_las_muñecas\n",
    "print(f'El peso total del paquete es: {peso_total_del_paquete} g y contiene {numero_payasos} payasos y {numero_muñecas} muñecas en total')"
   ]
  }
 ],
 "metadata": {
  "kernelspec": {
   "display_name": "Python 3",
   "language": "python",
   "name": "python3"
  },
  "language_info": {
   "codemirror_mode": {
    "name": "ipython",
    "version": 3
   },
   "file_extension": ".py",
   "mimetype": "text/x-python",
   "name": "python",
   "nbconvert_exporter": "python",
   "pygments_lexer": "ipython3",
   "version": "3.12.5"
  }
 },
 "nbformat": 4,
 "nbformat_minor": 2
}
