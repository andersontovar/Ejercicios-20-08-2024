{
 "cells": [
  {
   "cell_type": "code",
   "execution_count": 11,
   "metadata": {},
   "outputs": [
    {
     "name": "stdout",
     "output_type": "stream",
     "text": [
      "La division de 7504 entre 12 da como cociente 625 y un resto de 4\n"
     ]
    }
   ],
   "source": [
    "dividendo = int(input('Ingrese un numero entero como dividendo'))\n",
    "divisor = int(input('Ingrese un numero entero como divisor'))\n",
    "print(f'La division de {dividendo} entre {divisor} da como cociente {dividendo // divisor} y un resto de {dividendo % divisor}')"
   ]
  }
 ],
 "metadata": {
  "kernelspec": {
   "display_name": "Python 3",
   "language": "python",
   "name": "python3"
  },
  "language_info": {
   "codemirror_mode": {
    "name": "ipython",
    "version": 3
   },
   "file_extension": ".py",
   "mimetype": "text/x-python",
   "name": "python",
   "nbconvert_exporter": "python",
   "pygments_lexer": "ipython3",
   "version": "3.12.5"
  }
 },
 "nbformat": 4,
 "nbformat_minor": 2
}
