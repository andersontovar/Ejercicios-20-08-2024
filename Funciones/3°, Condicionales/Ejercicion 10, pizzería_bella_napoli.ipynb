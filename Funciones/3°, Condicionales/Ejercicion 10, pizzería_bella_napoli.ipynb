{
 "cells": [
  {
   "cell_type": "code",
   "execution_count": 5,
   "metadata": {},
   "outputs": [
    {
     "name": "stdout",
     "output_type": "stream",
     "text": [
      "El ingrediente elegido No esta en el menu\n"
     ]
    }
   ],
   "source": [
    "pizza = input('¿Desea una pizza vegetaria \"Si\" o \"No\"?')\n",
    "\n",
    "if pizza.lower() == 'si':\n",
    "    ingredientes = input('Elija un ingrediente del menu: \"Pimiento\" o \"Tofu\".')\n",
    "    if ingredientes.lower() == 'pimiento':\n",
    "        print('La pizza elegida es vegetariana y tiene como ingredientes: Mozzarella, Tomate y Pimiento')\n",
    "    elif ingredientes.lower() == 'tofu':\n",
    "        print('La pizza elegida es vegetariana y tiene como ingredientes: Mozzarella, Tomate y Tofu')\n",
    "    else:\n",
    "        print('El ingrediente elegido No esta en el menu')\n",
    "elif pizza.lower() == 'no':\n",
    "    ingredientes = input('Elija un ingrediente del menu: \"Peperoni\", \"Jamón\" o \"Salmón\".')\n",
    "    if ingredientes.lower() == 'peperoni':\n",
    "        print('La pizza elegida NO es vegetariana y tiene como ingredientes: Mozzarella, Tomate y Peperoni')\n",
    "    elif ingredientes.lower() == 'jamon':\n",
    "        print('La pizza elegida NO es vegetariana y tiene como ingredientes: Mozzarella, Tomate y Jamón')\n",
    "    elif ingredientes.lower() == 'salmon':\n",
    "        print('La pizza elegida NO es vegetariana y tiene como ingredientes: Mozzarella, Tomate y Salmón')\n",
    "    else:\n",
    "        print('El ingrediente elegido No esta en el menu')\n",
    "else:\n",
    "    print('El tipo de pizza que desea no esta en el menu')"
   ]
  }
 ],
 "metadata": {
  "kernelspec": {
   "display_name": "Python 3",
   "language": "python",
   "name": "python3"
  },
  "language_info": {
   "codemirror_mode": {
    "name": "ipython",
    "version": 3
   },
   "file_extension": ".py",
   "mimetype": "text/x-python",
   "name": "python",
   "nbconvert_exporter": "python",
   "pygments_lexer": "ipython3",
   "version": "3.12.5"
  }
 },
 "nbformat": 4,
 "nbformat_minor": 2
}
