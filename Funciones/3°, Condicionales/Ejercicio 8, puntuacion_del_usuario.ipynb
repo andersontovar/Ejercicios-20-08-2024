{
 "cells": [
  {
   "cell_type": "code",
   "execution_count": 11,
   "metadata": {},
   "outputs": [
    {
     "name": "stdout",
     "output_type": "stream",
     "text": [
      "Su nivel de rendimiento es: Meritorio\n",
      "El total de dinero que recibira es: 1,440.0€\n"
     ]
    }
   ],
   "source": [
    "puntuacion = float(input('Ingrese la puntuacion obtenida'))\n",
    "\n",
    "inaceptable = 0\n",
    "aceptable = 0.4\n",
    "meritorio = 0.6\n",
    "dinero_conseguido = 2400\n",
    "if puntuacion == inaceptable:\n",
    "    dinero_total = dinero_conseguido * inaceptable\n",
    "    nivel_de_rendimiento = 'Inaceptable'\n",
    "elif puntuacion == aceptable:\n",
    "    dinero_total = dinero_conseguido * aceptable\n",
    "    nivel_de_rendimiento = 'Aceptable'\n",
    "elif puntuacion >= meritorio:\n",
    "    dinero_total = dinero_conseguido * meritorio\n",
    "    nivel_de_rendimiento = 'Meritorio'\n",
    "else:\n",
    "    nivel_de_rendimiento = ''\n",
    "\n",
    "if nivel_de_rendimiento == '':\n",
    "    print('¡La puntuacion obtenida es incorrecta!')\n",
    "else:\n",
    "    print(f'Su nivel de rendimiento es: {nivel_de_rendimiento}')\n",
    "    print(f'El total de dinero que recibira es: {dinero_total:,}€')"
   ]
  }
 ],
 "metadata": {
  "kernelspec": {
   "display_name": "Python 3",
   "language": "python",
   "name": "python3"
  },
  "language_info": {
   "codemirror_mode": {
    "name": "ipython",
    "version": 3
   },
   "file_extension": ".py",
   "mimetype": "text/x-python",
   "name": "python",
   "nbconvert_exporter": "python",
   "pygments_lexer": "ipython3",
   "version": "3.12.5"
  }
 },
 "nbformat": 4,
 "nbformat_minor": 2
}
