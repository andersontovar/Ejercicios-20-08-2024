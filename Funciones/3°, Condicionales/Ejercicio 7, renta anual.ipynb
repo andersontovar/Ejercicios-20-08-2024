{
 "cells": [
  {
   "cell_type": "code",
   "execution_count": 9,
   "metadata": {},
   "outputs": [
    {
     "name": "stdout",
     "output_type": "stream",
     "text": [
      "Son 27,450.00€ a pagar\n"
     ]
    }
   ],
   "source": [
    "renta_anual = float(input('¿Cual es su renta anual?'))\n",
    "\n",
    "'''Busca la cuota tributaria que pertenece segun su renta anual'''\n",
    "if renta_anual < 10000:\n",
    "    cuota_tributaria = 5\n",
    "elif renta_anual < 20000:\n",
    "    cuota_tributaria = 15\n",
    "elif renta_anual < 35000:\n",
    "    cuota_tributaria = 20\n",
    "elif renta_anual < 60000:\n",
    "    cuota_tributaria = 30\n",
    "else:\n",
    "    cuota_tributaria = 45\n",
    "\n",
    "total_a_pagar = (renta_anual * cuota_tributaria)/ 100\n",
    "print(f'Son {total_a_pagar:,.2f}€ a pagar')"
   ]
  }
 ],
 "metadata": {
  "kernelspec": {
   "display_name": "Python 3",
   "language": "python",
   "name": "python3"
  },
  "language_info": {
   "codemirror_mode": {
    "name": "ipython",
    "version": 3
   },
   "file_extension": ".py",
   "mimetype": "text/x-python",
   "name": "python",
   "nbconvert_exporter": "python",
   "pygments_lexer": "ipython3",
   "version": "3.12.5"
  }
 },
 "nbformat": 4,
 "nbformat_minor": 2
}
