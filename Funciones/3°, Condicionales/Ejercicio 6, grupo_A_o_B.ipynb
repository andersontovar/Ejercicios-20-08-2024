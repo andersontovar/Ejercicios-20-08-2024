{
 "cells": [
  {
   "cell_type": "code",
   "execution_count": 9,
   "metadata": {},
   "outputs": [
    {
     "name": "stdout",
     "output_type": "stream",
     "text": [
      "El grupo al que corresponde es B\n"
     ]
    }
   ],
   "source": [
    "nombre = input('Ingrese su nombre')\n",
    "genero = input('Ingrese \"M\" si es mujer o \"H\" si es hombre')\n",
    "\n",
    "if genero.upper() == 'M':\n",
    "    if nombre.lower() < 'm':\n",
    "        grupo = 'A'\n",
    "    else:\n",
    "        grupo = 'B'\n",
    "else:\n",
    "    if nombre.lower() < 'h':\n",
    "        grupo = 'A'\n",
    "    else:\n",
    "        grupo = 'B'\n",
    "print('El grupo al que corresponde es', grupo)"
   ]
  }
 ],
 "metadata": {
  "kernelspec": {
   "display_name": "Python 3",
   "language": "python",
   "name": "python3"
  },
  "language_info": {
   "codemirror_mode": {
    "name": "ipython",
    "version": 3
   },
   "file_extension": ".py",
   "mimetype": "text/x-python",
   "name": "python",
   "nbconvert_exporter": "python",
   "pygments_lexer": "ipython3",
   "version": "3.12.5"
  }
 },
 "nbformat": 4,
 "nbformat_minor": 2
}
