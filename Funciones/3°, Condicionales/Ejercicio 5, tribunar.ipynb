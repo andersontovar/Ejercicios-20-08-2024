{
 "cells": [
  {
   "cell_type": "code",
   "execution_count": 3,
   "metadata": {},
   "outputs": [
    {
     "name": "stdout",
     "output_type": "stream",
     "text": [
      "Tiene que tribunar\n"
     ]
    }
   ],
   "source": [
    "edad = int(input('¿Cual es su edad?'))\n",
    "ingresos = int(input('¿Cuanto equivalen sus ingresos mensuales'))\n",
    "\n",
    "if edad > 16 and ingresos >= 1000:\n",
    "    print('Tiene que tribunar')\n",
    "else:\n",
    "    print('No tiene que tribunar')"
   ]
  }
 ],
 "metadata": {
  "kernelspec": {
   "display_name": "Python 3",
   "language": "python",
   "name": "python3"
  },
  "language_info": {
   "codemirror_mode": {
    "name": "ipython",
    "version": 3
   },
   "file_extension": ".py",
   "mimetype": "text/x-python",
   "name": "python",
   "nbconvert_exporter": "python",
   "pygments_lexer": "ipython3",
   "version": "3.12.5"
  }
 },
 "nbformat": 4,
 "nbformat_minor": 2
}
